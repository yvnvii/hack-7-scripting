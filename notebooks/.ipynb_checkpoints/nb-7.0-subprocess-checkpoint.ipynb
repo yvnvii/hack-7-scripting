{
 "cells": [
  {
   "cell_type": "markdown",
   "metadata": {},
   "source": [
    "## Notebook 7.0: functions, stdlib and subprocess\n",
    "\n",
    "\n",
    "### Learning objectives:\n",
    "- Learn to search function docstrings and code in interactive python.\n",
    "- Learn how docstrings appear in your code.\n",
    "- Learn to use the subprocess module.\n",
    "\n",
    "\n",
    "### Subprocess\n",
    "The `subprocess` module from the Python standard library is a powerful tool for writing Python pipeline programs -- software that acts as glue to stick together inputs and outputs of many other programs into a single program. This is a common use for Python, where its readability and ease-of-use makes it well suited for the \"glue\" role. The programs being glued together are often much faster software tools, optimized for speed much more than Python, such as those written in C or Fortran. As an example, here we will use `subprocess` to call a number of shell programs (those you would run in your bash terminal). This is only one example, though. You could use `subprocess` to call any binary executable program, or even to call the execution of scripts in other programming languages, like R or Java. "
   ]
  },
  {
   "cell_type": "markdown",
   "metadata": {},
   "source": [
    "### Python documentation\n",
    "Let's start by importing the module below. Because `subprocess` is part of the standard library it comes installed by default with Python.\n",
    "\n"
   ]
  },
  {
   "cell_type": "code",
   "execution_count": 1,
   "metadata": {},
   "outputs": [],
   "source": [
    "import subprocess"
   ]
  },
  {
   "cell_type": "markdown",
   "metadata": {},
   "source": [
    "Now that you have imported the subprocess module, what can we do with it? And where can we learn what to do with it? As with all modules in the standard library, `subprocess` is well documented with many examples online. The first place to look should be the [official Python docs](https://docs.python.org/3/library/subprocess.html). This is useful, but sometimes it dives a bit too deep into technical details. So if you want instead just a simple tutorial with examples, the best practice is to google something like \"Python subprocess example\". This will surely bring up many hits. Finally, it's worth noting that like any language Python evolves over time. The `subprocess` module is a good example. There are several functions in it that are available only in Python3 but not Python2. This is something to be aware of if you are writing code for a very general audience, which may be stuck on very outdated versions of Python. Fortunately, for scientific programming we can assume that our users *should* be able to easily install conda and thus we can *usually* design our programs just for modern Python versions only, without worrying out backwards-compatibility. \n"
   ]
  },
  {
   "cell_type": "markdown",
   "metadata": {},
   "source": [
    "### Jupyter uses `subprocess` under-the-hood for bash-magic\n",
    "You have actually used `subprocess` already, you just weren't aware of it. In a previous assignment we used \"bash-magic\" to call bash code from jupyter. The two code cells below provide examples of this. In the first, we use the `%%bash` header to tell the entire cell to execute as bash code. In the latter we can execute a single line as bash code using an exclamation mark. Pretty cool and easy to use. So why do we even need to learn `subprocess` for calling bash code if it is so easy? The answer is that the bash-magic commands are specific to jupyter (interactive Python) but we will often want to write Python code that can execute bash commands even from normal Python scripts. Moreover, it turns out the the bash-magic's themselves are simply using `subprocess` under the hood. So to understand how these work, we should understand how `subprocess` works. "
   ]
  },
  {
   "cell_type": "code",
   "execution_count": 2,
   "metadata": {},
   "outputs": [
    {
     "name": "stdout",
     "output_type": "stream",
     "text": [
      "/Users/yukiogawa/hacks/hack-7-scripting/notebooks\n",
      "hello world\n"
     ]
    }
   ],
   "source": [
    "%%bash\n",
    "# run a bash cell in jupyter\n",
    "pwd\n",
    "echo \"hello world\""
   ]
  },
  {
   "cell_type": "code",
   "execution_count": 3,
   "metadata": {},
   "outputs": [
    {
     "name": "stdout",
     "output_type": "stream",
     "text": [
      "/Users/yukiogawa/hacks/hack-7-scripting/notebooks\n"
     ]
    }
   ],
   "source": [
    "# a bash one-liner in jupyter\n",
    "! pwd"
   ]
  },
  {
   "cell_type": "markdown",
   "metadata": {},
   "source": [
    "### Subprocess functions\n",
    "There are several objects accessible from the `subprocess` module. The core object is the `Popen` class (we haven't learned much about classes yet, but we will soon). This object takes a number of arguments, including the bash command that you wish to execute, as well as what you want it to do with the input and output of the program. If you are using an older version of Python (e.g., <3.5) then you are stuck using this class. However, for all newer versions of Python there is a convenient wrapper around this class called `subprocess.run()` that is easier to use. Because we will be learning and writing modern Python code, we will focus on this function. It's worth noting its connection to `Popen`, however, since you will likely find many examples online that use this alternative approach.\n",
    "\n",
    "Before we proceed with any of that, let's revisit docstrings, and how you can use them to learn more about a new module when trying to learn it.\n"
   ]
  },
  {
   "cell_type": "markdown",
   "metadata": {},
   "source": [
    "### Docstrings\n",
    "Documentation strings are simply a string object that is written within the `def` call that defines a function, and serves as a special place for putting instructions on how to use the function. Below is a very simple function that returns the sum of two numbers. We could write a very simple docstring for this, but for this example I wrote a longer more verbose one, just to demonstrate. A good docstring will describe not only what the function does, but also its inputs and outputs and their object type."
   ]
  },
  {
   "cell_type": "code",
   "execution_count": 4,
   "metadata": {},
   "outputs": [],
   "source": [
    "def example_function(x, y):\n",
    "    \"\"\"\n",
    "    Example function that takes numeric values for x and y\n",
    "    and returns their sum.\n",
    "    \n",
    "    Parameters:\n",
    "    -----------\n",
    "    x (int, float):\n",
    "        An int or float.\n",
    "    y (int, float):\n",
    "        An int or float.\n",
    "        \n",
    "    Returns:\n",
    "    --------\n",
    "    an integer or float representing the sum of x and y.\n",
    "    \"\"\"\n",
    "    return x + y"
   ]
  },
  {
   "cell_type": "code",
   "execution_count": 5,
   "metadata": {},
   "outputs": [
    {
     "data": {
      "text/plain": [
       "20"
      ]
     },
     "execution_count": 5,
     "metadata": {},
     "output_type": "execute_result"
    }
   ],
   "source": [
    "# use the function\n",
    "example_function(10, 10)"
   ]
  },
  {
   "cell_type": "markdown",
   "metadata": {},
   "source": [
    "### Viewing a docstring\n",
    "\n",
    "Let's imagine that there are many functions and we want to be able to easily view the docstring of each one. An example, of course, is the `subprocess` module that we just introduced. Viewing the docstrings of its functions will help us to learn how to use it. So, how can we do this? The first way is to look at the online documentation, but of course that is slow. A faster way is to access the docstrings right here within our interactive coding session. This can be done in two ways. First by using the `?` character, and second by using tab-completion. \n",
    "\n",
    "1. Execute the code cell below where we write the function name followed by the `?` character. A docstring will popup from your browser showing the docstring. You can close this little window by pressing the x in the corner after you have taken a good look. You can see in this example that our docstring above appears in the box.  \n",
    "\n",
    "\n",
    "\n",
    "2. In the next cell is an example for tab-completion. Here we write the function name followed by parentheses, showing that it is a function. If you place your cursor inside of the parentheses and hold the shift key, and press tab, then a docstring will appear interactively. \n",
    "\n",
    "Both of these methods are quick ways to view the documentation for **any** python object. "
   ]
  },
  {
   "cell_type": "code",
   "execution_count": 6,
   "metadata": {},
   "outputs": [
    {
     "data": {
      "text/plain": [
       "\u001b[0;31mSignature:\u001b[0m \u001b[0mexample_function\u001b[0m\u001b[0;34m(\u001b[0m\u001b[0mx\u001b[0m\u001b[0;34m,\u001b[0m \u001b[0my\u001b[0m\u001b[0;34m)\u001b[0m\u001b[0;34m\u001b[0m\u001b[0;34m\u001b[0m\u001b[0m\n",
       "\u001b[0;31mDocstring:\u001b[0m\n",
       "Example function that takes numeric values for x and y\n",
       "and returns their sum.\n",
       "\n",
       "Parameters:\n",
       "-----------\n",
       "x (int, float):\n",
       "    An int or float.\n",
       "y (int, float):\n",
       "    An int or float.\n",
       "    \n",
       "Returns:\n",
       "--------\n",
       "an integer or float representing the sum of x and y.\n",
       "\u001b[0;31mFile:\u001b[0m      /var/folders/22/jqk5s0jn71bc6qvcjj555hz80000gn/T/ipykernel_34088/226716125.py\n",
       "\u001b[0;31mType:\u001b[0m      function"
      ]
     },
     "metadata": {},
     "output_type": "display_data"
    }
   ],
   "source": [
    "# execute this cell to see the docs\n",
    "example_function?"
   ]
  },
  {
   "cell_type": "code",
   "execution_count": 7,
   "metadata": {},
   "outputs": [
    {
     "data": {
      "text/plain": [
       "5"
      ]
     },
     "execution_count": 7,
     "metadata": {},
     "output_type": "execute_result"
    }
   ],
   "source": [
    "# put cursor inside of parentheses and press shift+tab twice\n",
    "example_function(2, 3)"
   ]
  },
  {
   "cell_type": "markdown",
   "metadata": {},
   "source": [
    "### Beyond docstrings\n",
    "Another useful trick that can sometimes be even more informative than a docstring is to look at the raw code for a function itself. This can also be done interactively from Python. In the code cell below we simply put `??` after the function and its source code will popup in the interactive window. \n",
    "\n"
   ]
  },
  {
   "cell_type": "code",
   "execution_count": 8,
   "metadata": {},
   "outputs": [
    {
     "data": {
      "text/plain": [
       "\u001b[0;31mSignature:\u001b[0m \u001b[0mexample_function\u001b[0m\u001b[0;34m(\u001b[0m\u001b[0mx\u001b[0m\u001b[0;34m,\u001b[0m \u001b[0my\u001b[0m\u001b[0;34m)\u001b[0m\u001b[0;34m\u001b[0m\u001b[0;34m\u001b[0m\u001b[0m\n",
       "\u001b[0;31mDocstring:\u001b[0m\n",
       "Example function that takes numeric values for x and y\n",
       "and returns their sum.\n",
       "\n",
       "Parameters:\n",
       "-----------\n",
       "x (int, float):\n",
       "    An int or float.\n",
       "y (int, float):\n",
       "    An int or float.\n",
       "    \n",
       "Returns:\n",
       "--------\n",
       "an integer or float representing the sum of x and y.\n",
       "\u001b[0;31mSource:\u001b[0m   \n",
       "\u001b[0;32mdef\u001b[0m \u001b[0mexample_function\u001b[0m\u001b[0;34m(\u001b[0m\u001b[0mx\u001b[0m\u001b[0;34m,\u001b[0m \u001b[0my\u001b[0m\u001b[0;34m)\u001b[0m\u001b[0;34m:\u001b[0m\u001b[0;34m\u001b[0m\n",
       "\u001b[0;34m\u001b[0m    \u001b[0;34m\"\"\"\u001b[0m\n",
       "\u001b[0;34m    Example function that takes numeric values for x and y\u001b[0m\n",
       "\u001b[0;34m    and returns their sum.\u001b[0m\n",
       "\u001b[0;34m    \u001b[0m\n",
       "\u001b[0;34m    Parameters:\u001b[0m\n",
       "\u001b[0;34m    -----------\u001b[0m\n",
       "\u001b[0;34m    x (int, float):\u001b[0m\n",
       "\u001b[0;34m        An int or float.\u001b[0m\n",
       "\u001b[0;34m    y (int, float):\u001b[0m\n",
       "\u001b[0;34m        An int or float.\u001b[0m\n",
       "\u001b[0;34m        \u001b[0m\n",
       "\u001b[0;34m    Returns:\u001b[0m\n",
       "\u001b[0;34m    --------\u001b[0m\n",
       "\u001b[0;34m    an integer or float representing the sum of x and y.\u001b[0m\n",
       "\u001b[0;34m    \"\"\"\u001b[0m\u001b[0;34m\u001b[0m\n",
       "\u001b[0;34m\u001b[0m    \u001b[0;32mreturn\u001b[0m \u001b[0mx\u001b[0m \u001b[0;34m+\u001b[0m \u001b[0my\u001b[0m\u001b[0;34m\u001b[0m\u001b[0;34m\u001b[0m\u001b[0m\n",
       "\u001b[0;31mFile:\u001b[0m      /var/folders/22/jqk5s0jn71bc6qvcjj555hz80000gn/T/ipykernel_34088/226716125.py\n",
       "\u001b[0;31mType:\u001b[0m      function"
      ]
     },
     "metadata": {},
     "output_type": "display_data"
    }
   ],
   "source": [
    "# execute to see docstring AND source code\n",
    "example_function??"
   ]
  },
  {
   "cell_type": "markdown",
   "metadata": {},
   "source": [
    "### Back to learning subprocess\n",
    "OK, so we want to learn the `subprocess` module, let's start by looking at the module level docstring."
   ]
  },
  {
   "cell_type": "code",
   "execution_count": 9,
   "metadata": {},
   "outputs": [
    {
     "data": {
      "text/plain": [
       "\u001b[0;31mType:\u001b[0m        module\n",
       "\u001b[0;31mString form:\u001b[0m <module 'subprocess' from '/Users/yukiogawa/miniconda3/lib/python3.12/subprocess.py'>\n",
       "\u001b[0;31mFile:\u001b[0m        ~/miniconda3/lib/python3.12/subprocess.py\n",
       "\u001b[0;31mDocstring:\u001b[0m  \n",
       "Subprocesses with accessible I/O streams\n",
       "\n",
       "This module allows you to spawn processes, connect to their\n",
       "input/output/error pipes, and obtain their return codes.\n",
       "\n",
       "For a complete description of this module see the Python documentation.\n",
       "\n",
       "Main API\n",
       "========\n",
       "run(...): Runs a command, waits for it to complete, then returns a\n",
       "          CompletedProcess instance.\n",
       "Popen(...): A class for flexibly executing a command in a new process\n",
       "\n",
       "Constants\n",
       "---------\n",
       "DEVNULL: Special value that indicates that os.devnull should be used\n",
       "PIPE:    Special value that indicates a pipe should be created\n",
       "STDOUT:  Special value that indicates that stderr should go to stdout\n",
       "\n",
       "\n",
       "Older API\n",
       "=========\n",
       "call(...): Runs a command, waits for it to complete, then returns\n",
       "    the return code.\n",
       "check_call(...): Same as call() but raises CalledProcessError()\n",
       "    if return code is not 0\n",
       "check_output(...): Same as check_call() but returns the contents of\n",
       "    stdout instead of a return code\n",
       "getoutput(...): Runs a command in the shell, waits for it to complete,\n",
       "    then returns the output\n",
       "getstatusoutput(...): Runs a command in the shell, waits for it to complete,\n",
       "    then returns a (exitcode, output) tuple"
      ]
     },
     "metadata": {},
     "output_type": "display_data"
    }
   ],
   "source": [
    "subprocess?"
   ]
  },
  {
   "cell_type": "markdown",
   "metadata": {},
   "source": [
    "This lists the the `.run()` function as the recommended tool. We could then look at its docstring as well. But, let's start with an example below, using `subprocess` to call the simple bash program `pwd`, which in a terminal would print your working directory to the output (stdout). "
   ]
  },
  {
   "cell_type": "code",
   "execution_count": 10,
   "metadata": {},
   "outputs": [
    {
     "name": "stdout",
     "output_type": "stream",
     "text": [
      "/Users/yukiogawa/hacks/hack-7-scripting/notebooks\n"
     ]
    },
    {
     "data": {
      "text/plain": [
       "CompletedProcess(args='pwd', returncode=0)"
      ]
     },
     "execution_count": 10,
     "metadata": {},
     "output_type": "execute_result"
    }
   ],
   "source": [
    "# returns a CompletedProcess object\n",
    "subprocess.run(\"pwd\")"
   ]
  },
  {
   "cell_type": "markdown",
   "metadata": {},
   "source": [
    "### Custom Class objects\n",
    "OK, so what happened? The program returned an object as a result that is called a `CompletedProcess` object. So what does that mean? The `CompletedProcess` object is a custom Class object in Python. This is an object, just like an Integer or a List, that contains attributes and functions that are meant to *operate on itself as the target*. We will learn later how to create custom objects like this that include attributes and functions that are relevant to themselves. For now, let's just learn to use this object. \n",
    "\n",
    "The `CompletedProcess` object's repr (the thing it shows us when it is returned) shows us two things, the args and returncode. If we look in the subprocess docs we can see that the `returncode` is the \"Exit status of the child process. Typically, an exit status of 0 indicates that it ran successfully\". So we know that the function worked. That's good. But where is the output? \n",
    "\n",
    "\n",
    "\n",
    "### Accessing attributes of classes\n",
    "One way to explore the different attributes of this object is using tab completion. \n",
    "So let's start by storing it as a variable called `proc`. From exploring this object I see that it has an attribute called `proc.stdout`, which seems like a reasonable place to expect it to have stored the information that should be printed to stdout. When we print it we see None. Hmm, I wonder what's happening. Let's go look at the docs for a description of stdout.\n"
   ]
  },
  {
   "cell_type": "code",
   "execution_count": 11,
   "metadata": {},
   "outputs": [
    {
     "name": "stdout",
     "output_type": "stream",
     "text": [
      "/Users/yukiogawa/hacks/hack-7-scripting/notebooks\n",
      "None\n"
     ]
    }
   ],
   "source": [
    "# returns a CompletedProcess object\n",
    "proc = subprocess.run(\"pwd\")\n",
    "\n",
    "# access results from the object\n",
    "print(proc.stdout)"
   ]
  },
  {
   "cell_type": "markdown",
   "metadata": {},
   "source": [
    "From looking back at the online documentation for `subprocess.run` we can see that it can take many optional arguments, including one called `capture_output`, which is a boolean. Let's try that. It works! You can see that it returns as a result a byte string that contains the contents that we expected `pwd` to print to the terminal. (There is also another way to do this by setting the `stdout=subprocess.PIPE` argument, we will demonstrate this futher below)."
   ]
  },
  {
   "cell_type": "code",
   "execution_count": null,
   "metadata": {},
   "outputs": [],
   "source": [
    "proc = subprocess.run(\"pwd\", capture_output=True)\n",
    "print(proc.stdout)"
   ]
  },
  {
   "cell_type": "markdown",
   "metadata": {},
   "source": [
    "### Entering more complex commands to subprocess\n",
    "When using `subprocess`, especially to design a program that others may use, it is important to be aware of the potential power of this tool. It has the ability to run bash commands. Thus, you must be careful about which arguments you allow users to input that it might eventually run. For example, you could imagine that if you allowed a user to input the name of the command to run in subprocess, that they could enter a command telling it to delete all files on your filesystem. Real hacker stuff! \n",
    "\n",
    "By default, `subprocess` tries to prevent this by not allowing you to enter just any command string, but instead requiring a more complex input style. This is enforced by requring that you split input strings into a list of strings, which also makes it easier to check that no malicious code is present. That's a long-winded way of saying that when the command you want to run in subprocess includes multiple arguments, they must be entered as a list, like in the example below. In this example we use the program `curl` to download contents from a URL and print it to stdout. Looks like it works! We have the contents of a CSV file with measurements for many flowers.\n",
    "\n",
    "The bash command we will run:\n",
    "`curl https://eaton-lab.org/data/iris-data-dirty.csv`"
   ]
  },
  {
   "cell_type": "code",
   "execution_count": 12,
   "metadata": {},
   "outputs": [
    {
     "name": "stdout",
     "output_type": "stream",
     "text": [
      "b'5.1,3.5,1.4,0.2,Iris-setosa\\n4.9,3.0,1.4,0.2,Iris-setosa\\n4.7,3.2,1.3,0.2,Iris-setosa\\n4.6,3.1,1.5,0.2,Iris-setosa\\n5.0,3.6,1.4,0.2,Iris-setosa\\n5.4,3.9,1.7,0.4,Iris-setosa\\n4.6,3.4,1.4,0.3,Iris-setosa\\n5.0,3.4,1.5,0.2,Iris-setosa\\n4.4,2.9,1.4,0.2,Iris-setosa\\n4.9,3.1,1.5,0.1,Iris-setosa\\n5.4,3.7,1.5,0.2,Iris-setosa\\n4.8,3.4,1.6,0.2,Iris-setsa\\n4.8,3.0,1.4,0.1,Iris-setosa\\n4.3,3.0,1.1,0.1,Iris-setosa\\n5.8,4.0,1.2,0.2,Iris-setosa\\n5.7,4.4,1.5,0.4,Iris-setosa\\n5.4,3.9,1.3,0.4,Iris-setosa\\n5.1,3.5,1.4,0.3,Iris-setosa\\n5.7,3.8,1.7,0.3,Iris-setosa\\n5.1,3.8,1.5,0.3,Iris-setosa\\n5.4,3.4,1.7,0.2,Iris-setosa\\n5.1,3.7,1.5,0.4,Iris-setosa\\n4.6,3.6,1.0,0.2,Iris-setosa\\n5.1,3.3,1.7,0.5,Iris-setosa\\n4.8,3.4,1.9,0.2,Iris-setosa\\n5.0,3.0,1.6,0.2,Iris-setosa\\n5.0,3.4,1.6,0.4,Iris-setosa\\n5.2,3.5,1.5,0.2,Iris-setosa\\n5.2,3.4,1.4,0.2,Iris-setosa\\n4.7,3.2,1.6,0.2,Iris-setosa\\n4.8,3.1,1.6,0.2,Iris-setosa\\n5.4,3.4,1.5,0.4,Iris-setosa\\n5.2,4.1,1.5,0.1,Iris-setosa\\n5.5,4.2,1.4,0.2,Iris-setosa\\n4.9,3.1,1.5,0.1,Iris-setosa\\n5.0,3.2,1.2,0.2,Iris-setosa\\n5.5,3.5,1.3,0.2,Iris-setosa\\n4.9,3.1,1.5,0.1,Iris-setosa\\n4.4,3.0,1.3,0.2,Iris-setosa\\n5.1,3.4,1.5,0.2,Iris-setosa\\n5.0,3.5,1.3,0.3,Iris-setosa\\n4.5,2.3,1.3,0.3,Iris-setosa\\n4.4,3.2,1.3,0.2,Iris-setosa\\n5.0,3.5,1.6,0.6,Iris-setosa\\n5.1,3.8,1.9,0.4,Iris-setosa\\n4.8,3.0,1.4,0.3,Iris-setosa\\n5.1,3.8,1.6,0.2,Iris-setosa\\n4.6,3.2,1.4,0.2,Iris-setosa\\n5.3,3.7,1.5,0.2,Iris-setosa\\n5.0,3.3,1.4,0.2,Iris-setosa\\n7.0,3.2,4.7,1.4,Iris-versicolour\\n6.4,3.2,4.5,1.5,Iris-versicolor\\n6.9,3.1,4.9,1.5,Iris-versicolor\\n5.5,2.3,4.0,1.3,Iris-versicolor\\n6.5,2.8,4.6,1.5,Iris-versicolor\\n5.7,2.8,4.5,1.3,Iris-versicolor\\n6.3,3.3,4.7,1.6,Iris-versicolor\\n4.9,2.4,3.3,1.0,Iris-versicolor\\n6.6,2.9,4.6,1.3,Iris-versicolor\\n5.2,2.7,3.9,1.4,Iris-versicolor\\n5.0,2.0,3.5,1.0,Iris-versicolor\\n5.9,3.0,4.2,1.5,Iris-versicolor\\n6.0,2.2,4.0,1.0,Iris-versicolor\\n6.1,2.9,4.7,1.4,Iris-versicolor\\n5.6,2.9,3.6,1.3,Iris-versicolor\\n6.7,3.1,4.4,1.4,Iris-versicolor\\n5.6,3.0,4.5,1.5,Iris-versicolor\\n5.8,2.7,4.1,1.0,Iris-versicolor\\n6.2,2.2,4.5,1.5,Iris-versicolor\\n5.6,2.5,3.9,1.1,Iris-versicolor\\n5.9,3.2,4.8,1.8,Iris-versicolor\\n6.1,2.8,4.0,1.3,Iris-versicolor\\n6.3,NA,4.9,1.5,Iris-versicolor\\n6.1,2.8,4.7,1.2,Iris-versicolor\\n6.4,2.9,4.3,1.3,Iris-versicolor\\n6.6,3.0,4.4,1.4,Iris-versicolor\\n6.8,2.8,4.8,1.4,Iris-versicolor\\n6.7,3.0,5.0,1.7,Iris-versicolor\\n6.0,2.9,4.5,1.5,Iris-versicolor\\n5.7,2.6,3.5,1.0,Iris-versicolor\\n5.5,2.4,3.8,1.1,Iris-versicolor\\n5.5,2.4,3.7,1.0,Iris-versicolor\\n5.8,2.7,3.9,1.2,Iris-versicolor\\n6.0,2.7,5.1,1.6,Iris-versicolor\\n5.4,3.0,4.5,1.5,Iris-versicolor\\n6.0,3.4,4.5,1.6,Iris-versicolor\\n6.7,3.1,4.7,1.5,Iris-versicolor\\n6.3,2.3,4.4,1.3,Iris-versicolor\\n5.6,NA,4.1,1.3,Iris-versicolor\\n5.5,2.5,4.0,1.3,Iris-versicolor\\n5.5,2.6,4.4,1.2,Iris-versicolor\\n6.1,3.0,4.6,1.4,Iris-versicolor\\n5.8,2.6,4.0,1.2,Iris-versicolor\\n5.0,2.3,3.3,1.0,Iris-versicolor\\n5.6,2.7,4.2,1.3,Iris-versicolor\\n5.7,3.0,4.2,1.2,Iris-versicolor\\n5.7,2.9,4.2,1.3,Iris-versicolor\\n6.2,2.9,4.3,1.3,Iris-versicolor\\n5.1,2.5,3.0,1.1,Iris-versicolor\\n5.7,2.8,4.1,1.3,Iris-versicolor\\n6.3,3.3,6.0,2.5,Iris-virginica\\n5.8,2.7,5.1,1.9,Iris-virginica\\n7.1,3.0,5.9,2.1,Iris-virginica\\n6.3,2.9,5.6,1.8,Iris-virginica\\n6.5,3.0,5.8,2.2,Iris-virginica\\n7.6,3.0,6.6,2.1,Iris-virginica\\n4.9,2.5,4.5,1.7,Iris-virginica\\n7.3,2.9,6.3,1.8,Iris-virginica\\n6.7,2.5,5.8,1.8,Iris-virginica\\n7.2,3.6,6.1,2.5,Iris-virginica\\n6.5,3.2,5.1,2.0,Iris-virginica\\n6.4,2.7,5.3,1.9,Iris-virginica\\n6.8,3.0,5.5,2.1,Iris-virginica\\n5.7,2.5,5.0,2.0,Iris-virginica\\n5.8,2.8,5.1,2.4,Iris-virginica\\n6.4,3.2,5.3,2.3,Iris-virginica\\n6.5,3.0,5.5,1.8,Iris-virginica\\n7.7,3.8,6.7,2.2,Iris-virginica\\n7.7,2.6,6.9,2.3,Iris-virginica\\n6.0,2.2,5.0,1.5,Iris-virginica\\n6.9,3.2,5.7,2.3,Iris-virginica\\n5.6,2.8,4.9,2.0,Iris-virginica\\n7.7,2.8,6.7,2.0,Iris-virginica\\n6.3,2.7,4.9,1.8,Iris-virginica\\n6.7,3.3,5.7,2.1,Iris-virginica\\n7.2,3.2,6.0,1.8,Iris-virginica\\n6.2,2.8,4.8,1.8,Iris-virginica\\n6.1,3.0,4.9,1.8,Iris-virginica\\n6.4,2.8,5.6,2.1,Iris-virginica\\n7.2,3.0,5.8,1.6,Iris-virginica\\n7.4,2.8,6.1,1.9,Iris-virginica\\n7.9,3.8,6.4,2.0,Iris-virginica\\n6.4,2.8,5.6,2.2,Iris-virginica\\n6.3,2.8,5.1,1.5,Iris-virginica\\n6.1,2.6,5.6,1.4,Iris-virginica\\n7.7,3.0,6.1,2.3,Iris-virginica\\n6.3,3.4,5.6,2.4,Iris-virginica\\n6.4,3.1,5.5,1.8,Iris-virginica\\n6.0,3.0,4.8,1.8,Iris-virginica\\n6.9,3.1,5.4,2.1,Iris-virginica\\n6.7,3.1,5.6,2.4,Iris-virginica\\n6.9,3.1,5.1,2.3,Iris-virginica\\n5.8,2.7,5.1,1.9,Iris-virginica\\n6.8,3.2,5.9,2.3,Iris-virginica\\n6.7,3.3,5.7,2.5,Iris-virginica\\n6.7,3.0,5.2,2.3,Iris-virginica\\n6.3,2.5,5.0,1.9,Iris-virginica\\n6.5,3.0,5.2,2.0,Iris-virginica\\n6.2,3.4,5.4,2.3,Iris-virginica\\n5.9,3.0,5.1,1.8,Iris-virginica\\n\\n'\n"
     ]
    }
   ],
   "source": [
    "cmd = [\"curl\", \"https://eaton-lab.org/data/iris-data-dirty.csv\"]\n",
    "proc = subprocess.run(cmd, capture_output=True)\n",
    "print(proc.stdout)"
   ]
  },
  {
   "cell_type": "markdown",
   "metadata": {},
   "source": [
    "### Parsing the output\n",
    "The result returned by `subprocess` to stdout will always be a type of string representation of what was printed by the program. By default, it is a byte string (b\"\"). Remember we learned about this briefly in the introduction to strings. A byte string starts with a 'b' and can represent a broader variety of characters than strings. To convert bytes to strings you simply need to call `.decode()` on the bytes object. Below we do this and then call several additional string functions to parse the output from above into a list.\n",
    "\n"
   ]
  },
  {
   "cell_type": "code",
   "execution_count": null,
   "metadata": {},
   "outputs": [],
   "source": [
    "# parse string output: \n",
    "#  - decode: converts bytes to str\n",
    "#  - strip: remove whitespace or newlines from ends of string\n",
    "#  - split(\"\\n\"): split string on newlines to make into a list\n",
    "plist = proc.stdout.decode().strip().split(\"\\n\")\n",
    "\n",
    "# print the first 10 items in plist\n",
    "print(plist[:10])"
   ]
  },
  {
   "cell_type": "code",
   "execution_count": null,
   "metadata": {},
   "outputs": [],
   "source": [
    "# parse the string items in the list into a list of strings\n",
    "slist = [i.split(\",\") for i in plist]\n",
    "print(slist[:10])"
   ]
  },
  {
   "cell_type": "markdown",
   "metadata": {},
   "source": [
    "### Putting it all together into a function\n",
    "In the code blocks above we have several statements that together led to our final result, a list of lists that contains the data from the file. (For now we will ignore that there are other cleaner ways to load CSV formatted data files). Let's now combine these statements together into a function that can load any CSV file from a URL. I will also add an additional argument called `nlines` to only return the first N lines of the CSV file."
   ]
  },
  {
   "cell_type": "code",
   "execution_count": null,
   "metadata": {},
   "outputs": [],
   "source": [
    "def csv_from_url(url, nlines=None):\n",
    "    \"\"\"\n",
    "    Gets contents of multi-line CSV from URL and parses to a list.\n",
    "    \n",
    "    Parameters\n",
    "    ----------\n",
    "    url (str):\n",
    "        A string of a URL address pointint to a CSV file.\n",
    "    nlines (int, None):\n",
    "        If an integer then it subselects the number of lines to return. \n",
    "    \"\"\"\n",
    "    # the command to download file contents\n",
    "    cmd = [\"curl\", url]\n",
    "    \n",
    "    # call command \n",
    "    proc = subprocess.run(cmd, capture_output=True)\n",
    "    \n",
    "    # parse stdout bytestring to a list of strings\n",
    "    plist = proc.stdout.decode().strip().split(\"\\n\")\n",
    "    \n",
    "    # parse to a list of lists of strings\n",
    "    slist = [i.split(\",\") for i in plist]\n",
    "    \n",
    "    # subselect lines\n",
    "    if slist is not None:\n",
    "        slist = slist[:nlines]\n",
    "    return slist"
   ]
  },
  {
   "cell_type": "markdown",
   "metadata": {},
   "source": [
    "Test the function:"
   ]
  },
  {
   "cell_type": "code",
   "execution_count": null,
   "metadata": {},
   "outputs": [],
   "source": [
    "csv_from_url(\"https://eaton-lab.org/data/iris-data-dirty.csv\", 10)"
   ]
  },
  {
   "cell_type": "markdown",
   "metadata": {},
   "source": [
    "### A more complex example\n",
    "\n",
    "Subprocess can be further extended by using PIPES to direct the output from one program call directly into the input of another program. This requires a particular syntax in subprocess. Here will do the following command to count the number of lines in the file that contain missing data ('NA'). \n",
    "\n",
    "`curl URL | grep -c NA`\n"
   ]
  },
  {
   "cell_type": "code",
   "execution_count": null,
   "metadata": {},
   "outputs": [],
   "source": [
    "# the two separate commands\n",
    "cmd1 = [\"curl\", \"https://eaton-lab.org/data/iris-data-dirty.csv\"]\n",
    "cmd2 = [\"grep\", \"-c\", \"NA\"]\n",
    "\n",
    "# tell proc1 to store stdout to PIPE\n",
    "proc1 = subprocess.run(cmd1, stdout=subprocess.PIPE)\n",
    "\n",
    "# tell proc2 to read proc1.stdout as input, and store stdout to PIPE\n",
    "proc2 = subprocess.run(cmd2, input=proc1.stdout, stdout=subprocess.PIPE)\n",
    "\n",
    "# access the stdout of proc2 (number of lines containing 'NA')\n",
    "print(proc2.stdout.decode())"
   ]
  },
  {
   "cell_type": "markdown",
   "metadata": {},
   "source": [
    "### Checking for errors\n",
    "As we learned earlier, the `CompletedProcess` object that is returned by `subprocess.run` contains an attribute called `returncode` that tells us whether the job was successful or not. If it fails, then the returncode will be a 1 rather than a 0. There are two ways in which we could use this information, depending on how we want our code to run. You could imagine that there might be a scenario where we want to allow the code to fail sometimes, and then perhaps we want to process the result differently based on the value of the returncode. But more often we probably want the `subprocess.run` command to succeed, and if it fails we would like to know, for example by having it raise an exception (stops the code from proceeding and describes the error). It turns out `subprocess.run` has a builtin option to do this, called `check=True`. \n",
    "\n",
    "Beware, however, that while *most* programs will return a 1 when an error arises, not all programs do this by default. For example, the `curl` program will fail silently if a URL does not exist, *unless* you add the additional argument `--fail` (I only learned this while creating this exercise). \n",
    "\n",
    "This example is expected to fail since the URL is invalid and curl was told to raise an exception if the address fails. "
   ]
  },
  {
   "cell_type": "code",
   "execution_count": 16,
   "metadata": {},
   "outputs": [
    {
     "name": "stderr",
     "output_type": "stream",
     "text": [
      "  % Total    % Received % Xferd  Average Speed   Time    Time     Time  Current\n",
      "                                 Dload  Upload   Total   Spent    Left  Speed\n",
      "100  4549  100  4549    0     0  86677      0 --:--:-- --:--:-- --:--:-- 87480\n",
      "  % Total    % Received % Xferd  Average Speed   Time    Time     Time  Current\n",
      "                                 Dload  Upload   Total   Spent    Left  Speed\n",
      "  0  7238    0     0    0     0      0      0 --:--:-- --:--:-- --:--:--     0\n",
      "curl: (22) The requested URL returned error: 404\n"
     ]
    },
    {
     "name": "stdout",
     "output_type": "stream",
     "text": [
      "5.1,3.5,1.4,0.2,Iris-setosa\n",
      "4.9,3.0,1.4,0.2,Iris-setosa\n",
      "4.7,3.2,1.3,0.2,Iris-setosa\n",
      "4.6,3.1,1.5,0.2,Iris-setosa\n",
      "5.0,3.6,1.4,0.2,Iris-setosa\n",
      "5.4,3.9,1.7,0.4,Iris-setosa\n",
      "4.6,3.4,1.4,0.3,Iris-setosa\n",
      "5.0,3.4,1.5,0.2,Iris-setosa\n",
      "4.4,2.9,1.4,0.2,Iris-setosa\n",
      "4.9,3.1,1.5,0.1,Iris-setosa\n",
      "5.4,3.7,1.5,0.2,Iris-setosa\n",
      "4.8,3.4,1.6,0.2,Iris-setsa\n",
      "4.8,3.0,1.4,0.1,Iris-setosa\n",
      "4.3,3.0,1.1,0.1,Iris-setosa\n",
      "5.8,4.0,1.2,0.2,Iris-setosa\n",
      "5.7,4.4,1.5,0.4,Iris-setosa\n",
      "5.4,3.9,1.3,0.4,Iris-setosa\n",
      "5.1,3.5,1.4,0.3,Iris-setosa\n",
      "5.7,3.8,1.7,0.3,Iris-setosa\n",
      "5.1,3.8,1.5,0.3,Iris-setosa\n",
      "5.4,3.4,1.7,0.2,Iris-setosa\n",
      "5.1,3.7,1.5,0.4,Iris-setosa\n",
      "4.6,3.6,1.0,0.2,Iris-setosa\n",
      "5.1,3.3,1.7,0.5,Iris-setosa\n",
      "4.8,3.4,1.9,0.2,Iris-setosa\n",
      "5.0,3.0,1.6,0.2,Iris-setosa\n",
      "5.0,3.4,1.6,0.4,Iris-setosa\n",
      "5.2,3.5,1.5,0.2,Iris-setosa\n",
      "5.2,3.4,1.4,0.2,Iris-setosa\n",
      "4.7,3.2,1.6,0.2,Iris-setosa\n",
      "4.8,3.1,1.6,0.2,Iris-setosa\n",
      "5.4,3.4,1.5,0.4,Iris-setosa\n",
      "5.2,4.1,1.5,0.1,Iris-setosa\n",
      "5.5,4.2,1.4,0.2,Iris-setosa\n",
      "4.9,3.1,1.5,0.1,Iris-setosa\n",
      "5.0,3.2,1.2,0.2,Iris-setosa\n",
      "5.5,3.5,1.3,0.2,Iris-setosa\n",
      "4.9,3.1,1.5,0.1,Iris-setosa\n",
      "4.4,3.0,1.3,0.2,Iris-setosa\n",
      "5.1,3.4,1.5,0.2,Iris-setosa\n",
      "5.0,3.5,1.3,0.3,Iris-setosa\n",
      "4.5,2.3,1.3,0.3,Iris-setosa\n",
      "4.4,3.2,1.3,0.2,Iris-setosa\n",
      "5.0,3.5,1.6,0.6,Iris-setosa\n",
      "5.1,3.8,1.9,0.4,Iris-setosa\n",
      "4.8,3.0,1.4,0.3,Iris-setosa\n",
      "5.1,3.8,1.6,0.2,Iris-setosa\n",
      "4.6,3.2,1.4,0.2,Iris-setosa\n",
      "5.3,3.7,1.5,0.2,Iris-setosa\n",
      "5.0,3.3,1.4,0.2,Iris-setosa\n",
      "7.0,3.2,4.7,1.4,Iris-versicolour\n",
      "6.4,3.2,4.5,1.5,Iris-versicolor\n",
      "6.9,3.1,4.9,1.5,Iris-versicolor\n",
      "5.5,2.3,4.0,1.3,Iris-versicolor\n",
      "6.5,2.8,4.6,1.5,Iris-versicolor\n",
      "5.7,2.8,4.5,1.3,Iris-versicolor\n",
      "6.3,3.3,4.7,1.6,Iris-versicolor\n",
      "4.9,2.4,3.3,1.0,Iris-versicolor\n",
      "6.6,2.9,4.6,1.3,Iris-versicolor\n",
      "5.2,2.7,3.9,1.4,Iris-versicolor\n",
      "5.0,2.0,3.5,1.0,Iris-versicolor\n",
      "5.9,3.0,4.2,1.5,Iris-versicolor\n",
      "6.0,2.2,4.0,1.0,Iris-versicolor\n",
      "6.1,2.9,4.7,1.4,Iris-versicolor\n",
      "5.6,2.9,3.6,1.3,Iris-versicolor\n",
      "6.7,3.1,4.4,1.4,Iris-versicolor\n",
      "5.6,3.0,4.5,1.5,Iris-versicolor\n",
      "5.8,2.7,4.1,1.0,Iris-versicolor\n",
      "6.2,2.2,4.5,1.5,Iris-versicolor\n",
      "5.6,2.5,3.9,1.1,Iris-versicolor\n",
      "5.9,3.2,4.8,1.8,Iris-versicolor\n",
      "6.1,2.8,4.0,1.3,Iris-versicolor\n",
      "6.3,NA,4.9,1.5,Iris-versicolor\n",
      "6.1,2.8,4.7,1.2,Iris-versicolor\n",
      "6.4,2.9,4.3,1.3,Iris-versicolor\n",
      "6.6,3.0,4.4,1.4,Iris-versicolor\n",
      "6.8,2.8,4.8,1.4,Iris-versicolor\n",
      "6.7,3.0,5.0,1.7,Iris-versicolor\n",
      "6.0,2.9,4.5,1.5,Iris-versicolor\n",
      "5.7,2.6,3.5,1.0,Iris-versicolor\n",
      "5.5,2.4,3.8,1.1,Iris-versicolor\n",
      "5.5,2.4,3.7,1.0,Iris-versicolor\n",
      "5.8,2.7,3.9,1.2,Iris-versicolor\n",
      "6.0,2.7,5.1,1.6,Iris-versicolor\n",
      "5.4,3.0,4.5,1.5,Iris-versicolor\n",
      "6.0,3.4,4.5,1.6,Iris-versicolor\n",
      "6.7,3.1,4.7,1.5,Iris-versicolor\n",
      "6.3,2.3,4.4,1.3,Iris-versicolor\n",
      "5.6,NA,4.1,1.3,Iris-versicolor\n",
      "5.5,2.5,4.0,1.3,Iris-versicolor\n",
      "5.5,2.6,4.4,1.2,Iris-versicolor\n",
      "6.1,3.0,4.6,1.4,Iris-versicolor\n",
      "5.8,2.6,4.0,1.2,Iris-versicolor\n",
      "5.0,2.3,3.3,1.0,Iris-versicolor\n",
      "5.6,2.7,4.2,1.3,Iris-versicolor\n",
      "5.7,3.0,4.2,1.2,Iris-versicolor\n",
      "5.7,2.9,4.2,1.3,Iris-versicolor\n",
      "6.2,2.9,4.3,1.3,Iris-versicolor\n",
      "5.1,2.5,3.0,1.1,Iris-versicolor\n",
      "5.7,2.8,4.1,1.3,Iris-versicolor\n",
      "6.3,3.3,6.0,2.5,Iris-virginica\n",
      "5.8,2.7,5.1,1.9,Iris-virginica\n",
      "7.1,3.0,5.9,2.1,Iris-virginica\n",
      "6.3,2.9,5.6,1.8,Iris-virginica\n",
      "6.5,3.0,5.8,2.2,Iris-virginica\n",
      "7.6,3.0,6.6,2.1,Iris-virginica\n",
      "4.9,2.5,4.5,1.7,Iris-virginica\n",
      "7.3,2.9,6.3,1.8,Iris-virginica\n",
      "6.7,2.5,5.8,1.8,Iris-virginica\n",
      "7.2,3.6,6.1,2.5,Iris-virginica\n",
      "6.5,3.2,5.1,2.0,Iris-virginica\n",
      "6.4,2.7,5.3,1.9,Iris-virginica\n",
      "6.8,3.0,5.5,2.1,Iris-virginica\n",
      "5.7,2.5,5.0,2.0,Iris-virginica\n",
      "5.8,2.8,5.1,2.4,Iris-virginica\n",
      "6.4,3.2,5.3,2.3,Iris-virginica\n",
      "6.5,3.0,5.5,1.8,Iris-virginica\n",
      "7.7,3.8,6.7,2.2,Iris-virginica\n",
      "7.7,2.6,6.9,2.3,Iris-virginica\n",
      "6.0,2.2,5.0,1.5,Iris-virginica\n",
      "6.9,3.2,5.7,2.3,Iris-virginica\n",
      "5.6,2.8,4.9,2.0,Iris-virginica\n",
      "7.7,2.8,6.7,2.0,Iris-virginica\n",
      "6.3,2.7,4.9,1.8,Iris-virginica\n",
      "6.7,3.3,5.7,2.1,Iris-virginica\n",
      "7.2,3.2,6.0,1.8,Iris-virginica\n",
      "6.2,2.8,4.8,1.8,Iris-virginica\n",
      "6.1,3.0,4.9,1.8,Iris-virginica\n",
      "6.4,2.8,5.6,2.1,Iris-virginica\n",
      "7.2,3.0,5.8,1.6,Iris-virginica\n",
      "7.4,2.8,6.1,1.9,Iris-virginica\n",
      "7.9,3.8,6.4,2.0,Iris-virginica\n",
      "6.4,2.8,5.6,2.2,Iris-virginica\n",
      "6.3,2.8,5.1,1.5,Iris-virginica\n",
      "6.1,2.6,5.6,1.4,Iris-virginica\n",
      "7.7,3.0,6.1,2.3,Iris-virginica\n",
      "6.3,3.4,5.6,2.4,Iris-virginica\n",
      "6.4,3.1,5.5,1.8,Iris-virginica\n",
      "6.0,3.0,4.8,1.8,Iris-virginica\n",
      "6.9,3.1,5.4,2.1,Iris-virginica\n",
      "6.7,3.1,5.6,2.4,Iris-virginica\n",
      "6.9,3.1,5.1,2.3,Iris-virginica\n",
      "5.8,2.7,5.1,1.9,Iris-virginica\n",
      "6.8,3.2,5.9,2.3,Iris-virginica\n",
      "6.7,3.3,5.7,2.5,Iris-virginica\n",
      "6.7,3.0,5.2,2.3,Iris-virginica\n",
      "6.3,2.5,5.0,1.9,Iris-virginica\n",
      "6.5,3.0,5.2,2.0,Iris-virginica\n",
      "6.2,3.4,5.4,2.3,Iris-virginica\n",
      "5.9,3.0,5.1,1.8,Iris-virginica\n",
      "\n"
     ]
    },
    {
     "ename": "CalledProcessError",
     "evalue": "Command '['curl', 'https://eaton-lab.org/data/non-existent-url.csv', '--fail']' returned non-zero exit status 22.",
     "output_type": "error",
     "traceback": [
      "\u001b[0;31m---------------------------------------------------------------------------\u001b[0m",
      "\u001b[0;31mCalledProcessError\u001b[0m                        Traceback (most recent call last)",
      "Cell \u001b[0;32mIn[16], line 11\u001b[0m\n\u001b[1;32m      8\u001b[0m cmd2 \u001b[38;5;241m=\u001b[39m [\u001b[38;5;124m\"\u001b[39m\u001b[38;5;124mcurl\u001b[39m\u001b[38;5;124m\"\u001b[39m, \u001b[38;5;124m\"\u001b[39m\u001b[38;5;124mhttps://eaton-lab.org/data/non-existent-url.csv\u001b[39m\u001b[38;5;124m\"\u001b[39m, \u001b[38;5;124m\"\u001b[39m\u001b[38;5;124m--fail\u001b[39m\u001b[38;5;124m\"\u001b[39m]\n\u001b[1;32m     10\u001b[0m \u001b[38;5;66;03m# run command raises an exception\u001b[39;00m\n\u001b[0;32m---> 11\u001b[0m proc2 \u001b[38;5;241m=\u001b[39m \u001b[43msubprocess\u001b[49m\u001b[38;5;241;43m.\u001b[39;49m\u001b[43mrun\u001b[49m\u001b[43m(\u001b[49m\u001b[43mcmd2\u001b[49m\u001b[43m,\u001b[49m\u001b[43m \u001b[49m\u001b[43mcheck\u001b[49m\u001b[38;5;241;43m=\u001b[39;49m\u001b[38;5;28;43;01mTrue\u001b[39;49;00m\u001b[43m)\u001b[49m\n",
      "File \u001b[0;32m~/miniconda3/lib/python3.12/subprocess.py:571\u001b[0m, in \u001b[0;36mrun\u001b[0;34m(input, capture_output, timeout, check, *popenargs, **kwargs)\u001b[0m\n\u001b[1;32m    569\u001b[0m     retcode \u001b[38;5;241m=\u001b[39m process\u001b[38;5;241m.\u001b[39mpoll()\n\u001b[1;32m    570\u001b[0m     \u001b[38;5;28;01mif\u001b[39;00m check \u001b[38;5;129;01mand\u001b[39;00m retcode:\n\u001b[0;32m--> 571\u001b[0m         \u001b[38;5;28;01mraise\u001b[39;00m CalledProcessError(retcode, process\u001b[38;5;241m.\u001b[39margs,\n\u001b[1;32m    572\u001b[0m                                  output\u001b[38;5;241m=\u001b[39mstdout, stderr\u001b[38;5;241m=\u001b[39mstderr)\n\u001b[1;32m    573\u001b[0m \u001b[38;5;28;01mreturn\u001b[39;00m CompletedProcess(process\u001b[38;5;241m.\u001b[39margs, retcode, stdout, stderr)\n",
      "\u001b[0;31mCalledProcessError\u001b[0m: Command '['curl', 'https://eaton-lab.org/data/non-existent-url.csv', '--fail']' returned non-zero exit status 22."
     ]
    }
   ],
   "source": [
    "# a curl command with a valid URL \n",
    "cmd1 = [\"curl\", \"https://eaton-lab.org/data/iris-data-dirty.csv\", \"--fail\"]\n",
    "\n",
    "# run command works fine\n",
    "proc1 = subprocess.run(cmd1, check=True)\n",
    "\n",
    "# a curl command with an INVALID URL \n",
    "cmd2 = [\"curl\", \"https://eaton-lab.org/data/non-existent-url.csv\", \"--fail\"]\n",
    "\n",
    "# run command raises an exception\n",
    "proc2 = subprocess.run(cmd2, check=True)"
   ]
  },
  {
   "cell_type": "markdown",
   "metadata": {},
   "source": [
    "### Assessment\n",
    "\n",
    "<div class=\"alert alert-success\">\n",
    "    Follow the instructions below. After completing the challenges save your notebook and push the updated version to GitHub.\n",
    "</div>"
   ]
  },
  {
   "cell_type": "markdown",
   "metadata": {},
   "source": [
    "### Challenge 1:\n",
    "Write a function that uses `subprocess` to call the following bash command using three `subprocess.run()` calls with pipes. Before writing this in Python, try first typing it into your terminal to see what it does. Make sure you understand what each part of the command is doing. \n",
    "\n",
    "`conda list | cut -d ' ' -f 1 | grep 'py'`\n",
    "\n",
    "\n",
    "We are looking for the following in your answer:\n",
    "1. You wrote a working function and tested it afterwards.\n",
    "2. It uses `subprocess.PIPE`.\n",
    "3. It uses three `subprocess.run()` calls.\n",
    "4. It parses the result from a bytestring to a list.\n",
    "5. The function uses `return` to return the list (i.e., does not simply `print` it)."
   ]
  },
  {
   "cell_type": "code",
   "execution_count": 24,
   "metadata": {},
   "outputs": [
    {
     "name": "stdout",
     "output_type": "stream",
     "text": [
      "brotli-python\n",
      "cowpy\n",
      "debugpy\n",
      "ipykernel\n",
      "ipython\n",
      "jupyter-lsp\n",
      "jupyter_client\n",
      "jupyter_core\n",
      "jupyter_events\n",
      "jupyter_server\n",
      "jupyter_server_terminals\n",
      "jupyterlab\n",
      "jupyterlab_pygments\n",
      "jupyterlab_server\n",
      "libmambapy\n",
      "pybind11-abi\n",
      "pycosat\n",
      "pycparser\n",
      "pygments\n",
      "pyobjc-core\n",
      "pyobjc-framework-cocoa\n",
      "pysocks\n",
      "python\n",
      "python-dateutil\n",
      "python-fastjsonschema\n",
      "python-json-logger\n",
      "python.app\n",
      "python_abi\n",
      "pytz\n",
      "pyyaml\n",
      "pyzmq\n",
      "rpds-py\n",
      "types-python-dateutil\n",
      "\n"
     ]
    }
   ],
   "source": [
    "import subprocess\n",
    "def subprocessTest():\n",
    "    cmd1 = [\"conda\", \"list\"]\n",
    "    cmd2 = [\"cut\", \"-d\", \" \", \"-f\", \"1\"]\n",
    "    cmd3 = [\"grep\", \"py\"]\n",
    "    \n",
    "    proc1 = subprocess.run(cmd1, stdout=subprocess.PIPE, check=True)\n",
    "    proc2 = subprocess.run(cmd2, input=proc1.stdout, stdout=subprocess.PIPE, check=True)\n",
    "    proc3 = subprocess.run(cmd3, input=proc2.stdout, stdout=subprocess.PIPE, check=True)\n",
    "\n",
    "    return proc3.stdout.decode()\n",
    "\n",
    "print(subprocessTest())"
   ]
  },
  {
   "cell_type": "markdown",
   "metadata": {},
   "source": [
    "### Challenge 2: \n",
    "Using markdown describe below what the command above does. Also describe any problems you encountered while writing it, and how to you solved it. "
   ]
  },
  {
   "cell_type": "code",
   "execution_count": 32,
   "metadata": {},
   "outputs": [
    {
     "ename": "SyntaxError",
     "evalue": "unterminated string literal (detected at line 20) (286042746.py, line 20)",
     "output_type": "error",
     "traceback": [
      "\u001b[0;36m  Cell \u001b[0;32mIn[32], line 20\u001b[0;36m\u001b[0m\n\u001b[0;31m    proc2 takes proc1's stdout as an input and stores the stdout of cmd2 into a pipe.\u001b[0m\n\u001b[0m                     ^\u001b[0m\n\u001b[0;31mSyntaxError\u001b[0m\u001b[0;31m:\u001b[0m unterminated string literal (detected at line 20)\n"
     ]
    }
   ],
   "source": [
    "# **Conda Package Filtering**\n",
    "\n",
    "## **1.Split the Command Lines**\n",
    "```sh\n",
    "conda list | cut -d ' ' -f 1 | grep 'py'\n",
    "```\n",
    "This command line arguments are separated by pipes. You have to store them in three lists.\n",
    "```py\n",
    "cmd1 = [\"conda\", \"list\"]\n",
    "cmd2 = [\"cut\", \"-d\", \" \", \"-f\", \"1\"]\n",
    "cmd3 = [\"grep\", \"py\"]\n",
    "```\n",
    "Problem: I initially put \"\\' \\'\" for \" \" in cmd2 but it did not work.\n",
    "Fix: I simply put \" \", which in bash script will make cmd2 appear as cut -d   -f 1. (no \" \")\n",
    "\n",
    "## **2.Execute the commands one by one, storing the stdout to take it as an input for next**\n",
    "proc1 executes cmd1 and stores the stdout of cmd1 into a pipe.\n",
    "cmd1 lists all the packages in conda.\n",
    "```py\n",
    "proc1 = subprocess.run(cmd1, stdout=subprocess.PIPE, check=True)\n",
    "```\n",
    "proc2 takes proc1's stdout as an input and stores the stdout of cmd2 into a pipe.\n",
    "cmd2 extracts the first column of the list (package names.)\n",
    "```py\n",
    "proc2 = subprocess.run(cmd2, input=proc1.stdout, stdout=subprocess.PIPE, check=True)\n",
    "```\n",
    "proc3 takes proc2's stdout as an input and stores the stdout of cmd3 into a pipe.\n",
    "cmd3 filters packages that contain \"py\" in their names.\n",
    "```py\n",
    "proc3 = subprocess.run(cmd3, input=proc2.stdout, stdout=subprocess.PIPE, check=True)\n",
    "```\n",
    "Then the function returns the stdout of cmd3.\n",
    "```py\n",
    "return proc3.stdout.decode()\n",
    "```"
   ]
  },
  {
   "cell_type": "code",
   "execution_count": null,
   "metadata": {},
   "outputs": [],
   "source": []
  },
  {
   "cell_type": "code",
   "execution_count": null,
   "metadata": {},
   "outputs": [],
   "source": []
  }
 ],
 "metadata": {
  "kernelspec": {
   "display_name": "Python 3 (ipykernel)",
   "language": "python",
   "name": "python3"
  },
  "language_info": {
   "codemirror_mode": {
    "name": "ipython",
    "version": 3
   },
   "file_extension": ".py",
   "mimetype": "text/x-python",
   "name": "python",
   "nbconvert_exporter": "python",
   "pygments_lexer": "ipython3",
   "version": "3.12.2"
  }
 },
 "nbformat": 4,
 "nbformat_minor": 4
}
