{
 "cells": [
  {
   "cell_type": "code",
   "execution_count": 25,
   "id": "e5911e9d-85af-4668-b4c8-b9c084d5d74a",
   "metadata": {},
   "outputs": [],
   "source": [
    "import sys"
   ]
  },
  {
   "cell_type": "code",
   "execution_count": 26,
   "id": "ff9afe1f-e71e-4ef2-bbb6-ea13b0bba384",
   "metadata": {},
   "outputs": [
    {
     "data": {
      "text/plain": [
       "['/Users/yukiogawa/miniconda3/lib/python312.zip',\n",
       " '/Users/yukiogawa/miniconda3/lib/python3.12',\n",
       " '/Users/yukiogawa/miniconda3/lib/python3.12/lib-dynload',\n",
       " '',\n",
       " '/Users/yukiogawa/miniconda3/lib/python3.12/site-packages',\n",
       " '..']"
      ]
     },
     "execution_count": 26,
     "metadata": {},
     "output_type": "execute_result"
    }
   ],
   "source": [
    "sys.path"
   ]
  },
  {
   "cell_type": "code",
   "execution_count": 27,
   "id": "1be5dac5-4d58-4081-8a59-ec3cf1ed72f0",
   "metadata": {},
   "outputs": [],
   "source": [
    "sys.path.append(\"..\")"
   ]
  },
  {
   "cell_type": "code",
   "execution_count": 4,
   "id": "6b3181f2-efc3-406e-ab7f-1a9cae801ada",
   "metadata": {},
   "outputs": [],
   "source": [
    "import mypackage"
   ]
  },
  {
   "cell_type": "code",
   "execution_count": 33,
   "id": "5756ec78-0d56-4ae0-956e-9fb6109c99cc",
   "metadata": {},
   "outputs": [
    {
     "data": {
      "text/plain": [
       "'Better not tell you now.'"
      ]
     },
     "execution_count": 33,
     "metadata": {},
     "output_type": "execute_result"
    }
   ],
   "source": [
    "mypackage.mymodule.magic_eight_ball()\n"
   ]
  },
  {
   "cell_type": "code",
   "execution_count": 34,
   "id": "db8c7213-3180-47ea-879e-290dc8c521e1",
   "metadata": {},
   "outputs": [
    {
     "data": {
      "text/plain": [
       "\u001b[0;31mType:\u001b[0m        module\n",
       "\u001b[0;31mString form:\u001b[0m <module 'mypackage' (namespace) from ['/Users/yukiogawa/hacks/hack-7-scripting/notebooks/../mypackage']>\n",
       "\u001b[0;31mDocstring:\u001b[0m   <no docstring>"
      ]
     },
     "metadata": {},
     "output_type": "display_data"
    }
   ],
   "source": [
    "mypackage?"
   ]
  },
  {
   "cell_type": "code",
   "execution_count": null,
   "id": "718a09d2-acee-4ad6-a883-da6f6390938d",
   "metadata": {},
   "outputs": [],
   "source": []
  }
 ],
 "metadata": {
  "kernelspec": {
   "display_name": "Python 3 (ipykernel)",
   "language": "python",
   "name": "python3"
  },
  "language_info": {
   "codemirror_mode": {
    "name": "ipython",
    "version": 3
   },
   "file_extension": ".py",
   "mimetype": "text/x-python",
   "name": "python",
   "nbconvert_exporter": "python",
   "pygments_lexer": "ipython3",
   "version": "3.12.2"
  }
 },
 "nbformat": 4,
 "nbformat_minor": 5
}
